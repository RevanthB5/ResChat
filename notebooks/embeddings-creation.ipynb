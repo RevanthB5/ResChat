{
 "cells": [
  {
   "cell_type": "markdown",
   "metadata": {},
   "source": [
    "# Sentence Embeddings"
   ]
  },
  {
   "cell_type": "code",
   "execution_count": 3,
   "metadata": {
    "execution": {
     "iopub.execute_input": "2024-10-31T14:11:55.288091Z",
     "iopub.status.busy": "2024-10-31T14:11:55.287491Z",
     "iopub.status.idle": "2024-10-31T14:11:55.292165Z",
     "shell.execute_reply": "2024-10-31T14:11:55.291170Z",
     "shell.execute_reply.started": "2024-10-31T14:11:55.288050Z"
    },
    "trusted": true
   },
   "outputs": [],
   "source": [
    "import pandas as pd\n",
    "from pathlib import Path"
   ]
  },
  {
   "cell_type": "code",
   "execution_count": null,
   "metadata": {
    "execution": {
     "iopub.execute_input": "2024-10-31T14:12:01.213333Z",
     "iopub.status.busy": "2024-10-31T14:12:01.212615Z",
     "iopub.status.idle": "2024-10-31T14:12:02.744099Z",
     "shell.execute_reply": "2024-10-31T14:12:02.743147Z",
     "shell.execute_reply.started": "2024-10-31T14:12:01.213290Z"
    },
    "trusted": true
   },
   "outputs": [
    {
     "data": {
      "text/html": [
       "<div>\n",
       "<style scoped>\n",
       "    .dataframe tbody tr th:only-of-type {\n",
       "        vertical-align: middle;\n",
       "    }\n",
       "\n",
       "    .dataframe tbody tr th {\n",
       "        vertical-align: top;\n",
       "    }\n",
       "\n",
       "    .dataframe thead th {\n",
       "        text-align: right;\n",
       "    }\n",
       "</style>\n",
       "<table border=\"1\" class=\"dataframe\">\n",
       "  <thead>\n",
       "    <tr style=\"text-align: right;\">\n",
       "      <th></th>\n",
       "      <th>titles</th>\n",
       "      <th>abstracts</th>\n",
       "      <th>terms</th>\n",
       "      <th>urls</th>\n",
       "    </tr>\n",
       "  </thead>\n",
       "  <tbody>\n",
       "    <tr>\n",
       "      <th>0</th>\n",
       "      <td>Benchmarking Human and Automated Prompting in ...</td>\n",
       "      <td>The remarkable capabilities of the Segment Any...</td>\n",
       "      <td>['cs.CV']</td>\n",
       "      <td>http://arxiv.org/abs/2410.22048v1</td>\n",
       "    </tr>\n",
       "    <tr>\n",
       "      <th>1</th>\n",
       "      <td>CAMS: Convolution and Attention-Free Mamba-bas...</td>\n",
       "      <td>Convolutional Neural Networks (CNNs) and Trans...</td>\n",
       "      <td>['cs.CV']</td>\n",
       "      <td>http://arxiv.org/abs/2406.05786v3</td>\n",
       "    </tr>\n",
       "    <tr>\n",
       "      <th>2</th>\n",
       "      <td>Global-Local Medical SAM Adaptor Based on Full...</td>\n",
       "      <td>Emerging of visual language models, such as th...</td>\n",
       "      <td>['cs.AI', 'cs.CV']</td>\n",
       "      <td>http://arxiv.org/abs/2409.17486v2</td>\n",
       "    </tr>\n",
       "    <tr>\n",
       "      <th>3</th>\n",
       "      <td>Image Segmentation in Foundation Model Era: A ...</td>\n",
       "      <td>Image segmentation is a long-standing challeng...</td>\n",
       "      <td>['cs.CV']</td>\n",
       "      <td>http://arxiv.org/abs/2408.12957v2</td>\n",
       "    </tr>\n",
       "    <tr>\n",
       "      <th>4</th>\n",
       "      <td>Empirical curvelet based Fully Convolutional N...</td>\n",
       "      <td>In this paper, we propose a new approach to pe...</td>\n",
       "      <td>['cs.CV']</td>\n",
       "      <td>http://arxiv.org/abs/2410.21562v1</td>\n",
       "    </tr>\n",
       "  </tbody>\n",
       "</table>\n",
       "</div>"
      ],
      "text/plain": [
       "                                              titles  \\\n",
       "0  Benchmarking Human and Automated Prompting in ...   \n",
       "1  CAMS: Convolution and Attention-Free Mamba-bas...   \n",
       "2  Global-Local Medical SAM Adaptor Based on Full...   \n",
       "3  Image Segmentation in Foundation Model Era: A ...   \n",
       "4  Empirical curvelet based Fully Convolutional N...   \n",
       "\n",
       "                                           abstracts               terms  \\\n",
       "0  The remarkable capabilities of the Segment Any...           ['cs.CV']   \n",
       "1  Convolutional Neural Networks (CNNs) and Trans...           ['cs.CV']   \n",
       "2  Emerging of visual language models, such as th...  ['cs.AI', 'cs.CV']   \n",
       "3  Image segmentation is a long-standing challeng...           ['cs.CV']   \n",
       "4  In this paper, we propose a new approach to pe...           ['cs.CV']   \n",
       "\n",
       "                                urls  \n",
       "0  http://arxiv.org/abs/2410.22048v1  \n",
       "1  http://arxiv.org/abs/2406.05786v3  \n",
       "2  http://arxiv.org/abs/2409.17486v2  \n",
       "3  http://arxiv.org/abs/2408.12957v2  \n",
       "4  http://arxiv.org/abs/2410.21562v1  "
      ]
     },
     "execution_count": 5,
     "metadata": {},
     "output_type": "execute_result"
    }
   ],
   "source": [
    "dataset = pd.read_csv('../data/filtered_data.csv')\n",
    "dataset.head()"
   ]
  },
  {
   "cell_type": "markdown",
   "metadata": {},
   "source": [
    "## Embeddings"
   ]
  },
  {
   "cell_type": "code",
   "execution_count": 6,
   "metadata": {
    "execution": {
     "iopub.execute_input": "2024-10-31T14:12:08.436512Z",
     "iopub.status.busy": "2024-10-31T14:12:08.435751Z",
     "iopub.status.idle": "2024-10-31T14:12:21.458949Z",
     "shell.execute_reply": "2024-10-31T14:12:21.457726Z",
     "shell.execute_reply.started": "2024-10-31T14:12:08.436472Z"
    },
    "trusted": true
   },
   "outputs": [
    {
     "name": "stdout",
     "output_type": "stream",
     "text": [
      "Collecting sentence_transformers\n",
      "  Downloading sentence_transformers-3.2.1-py3-none-any.whl.metadata (10 kB)\n",
      "Requirement already satisfied: transformers<5.0.0,>=4.41.0 in /opt/conda/lib/python3.10/site-packages (from sentence_transformers) (4.45.1)\n",
      "Requirement already satisfied: tqdm in /opt/conda/lib/python3.10/site-packages (from sentence_transformers) (4.66.4)\n",
      "Requirement already satisfied: torch>=1.11.0 in /opt/conda/lib/python3.10/site-packages (from sentence_transformers) (2.4.0)\n",
      "Requirement already satisfied: scikit-learn in /opt/conda/lib/python3.10/site-packages (from sentence_transformers) (1.2.2)\n",
      "Requirement already satisfied: scipy in /opt/conda/lib/python3.10/site-packages (from sentence_transformers) (1.14.1)\n",
      "Requirement already satisfied: huggingface-hub>=0.20.0 in /opt/conda/lib/python3.10/site-packages (from sentence_transformers) (0.25.1)\n",
      "Requirement already satisfied: Pillow in /opt/conda/lib/python3.10/site-packages (from sentence_transformers) (10.3.0)\n",
      "Requirement already satisfied: filelock in /opt/conda/lib/python3.10/site-packages (from huggingface-hub>=0.20.0->sentence_transformers) (3.15.1)\n",
      "Requirement already satisfied: fsspec>=2023.5.0 in /opt/conda/lib/python3.10/site-packages (from huggingface-hub>=0.20.0->sentence_transformers) (2024.6.1)\n",
      "Requirement already satisfied: packaging>=20.9 in /opt/conda/lib/python3.10/site-packages (from huggingface-hub>=0.20.0->sentence_transformers) (21.3)\n",
      "Requirement already satisfied: pyyaml>=5.1 in /opt/conda/lib/python3.10/site-packages (from huggingface-hub>=0.20.0->sentence_transformers) (6.0.2)\n",
      "Requirement already satisfied: requests in /opt/conda/lib/python3.10/site-packages (from huggingface-hub>=0.20.0->sentence_transformers) (2.32.3)\n",
      "Requirement already satisfied: typing-extensions>=3.7.4.3 in /opt/conda/lib/python3.10/site-packages (from huggingface-hub>=0.20.0->sentence_transformers) (4.12.2)\n",
      "Requirement already satisfied: sympy in /opt/conda/lib/python3.10/site-packages (from torch>=1.11.0->sentence_transformers) (1.13.3)\n",
      "Requirement already satisfied: networkx in /opt/conda/lib/python3.10/site-packages (from torch>=1.11.0->sentence_transformers) (3.3)\n",
      "Requirement already satisfied: jinja2 in /opt/conda/lib/python3.10/site-packages (from torch>=1.11.0->sentence_transformers) (3.1.4)\n",
      "Requirement already satisfied: numpy>=1.17 in /opt/conda/lib/python3.10/site-packages (from transformers<5.0.0,>=4.41.0->sentence_transformers) (1.26.4)\n",
      "Requirement already satisfied: regex!=2019.12.17 in /opt/conda/lib/python3.10/site-packages (from transformers<5.0.0,>=4.41.0->sentence_transformers) (2024.5.15)\n",
      "Requirement already satisfied: safetensors>=0.4.1 in /opt/conda/lib/python3.10/site-packages (from transformers<5.0.0,>=4.41.0->sentence_transformers) (0.4.5)\n",
      "Requirement already satisfied: tokenizers<0.21,>=0.20 in /opt/conda/lib/python3.10/site-packages (from transformers<5.0.0,>=4.41.0->sentence_transformers) (0.20.0)\n",
      "Requirement already satisfied: joblib>=1.1.1 in /opt/conda/lib/python3.10/site-packages (from scikit-learn->sentence_transformers) (1.4.2)\n",
      "Requirement already satisfied: threadpoolctl>=2.0.0 in /opt/conda/lib/python3.10/site-packages (from scikit-learn->sentence_transformers) (3.5.0)\n",
      "Requirement already satisfied: pyparsing!=3.0.5,>=2.0.2 in /opt/conda/lib/python3.10/site-packages (from packaging>=20.9->huggingface-hub>=0.20.0->sentence_transformers) (3.1.2)\n",
      "Requirement already satisfied: MarkupSafe>=2.0 in /opt/conda/lib/python3.10/site-packages (from jinja2->torch>=1.11.0->sentence_transformers) (2.1.5)\n",
      "Requirement already satisfied: charset-normalizer<4,>=2 in /opt/conda/lib/python3.10/site-packages (from requests->huggingface-hub>=0.20.0->sentence_transformers) (3.3.2)\n",
      "Requirement already satisfied: idna<4,>=2.5 in /opt/conda/lib/python3.10/site-packages (from requests->huggingface-hub>=0.20.0->sentence_transformers) (3.7)\n",
      "Requirement already satisfied: urllib3<3,>=1.21.1 in /opt/conda/lib/python3.10/site-packages (from requests->huggingface-hub>=0.20.0->sentence_transformers) (1.26.18)\n",
      "Requirement already satisfied: certifi>=2017.4.17 in /opt/conda/lib/python3.10/site-packages (from requests->huggingface-hub>=0.20.0->sentence_transformers) (2024.8.30)\n",
      "Requirement already satisfied: mpmath<1.4,>=1.1.0 in /opt/conda/lib/python3.10/site-packages (from sympy->torch>=1.11.0->sentence_transformers) (1.3.0)\n",
      "Downloading sentence_transformers-3.2.1-py3-none-any.whl (255 kB)\n",
      "\u001b[2K   \u001b[90m━━━━━━━━━━━━━━━━━━━━━━━━━━━━━━━━━━━━━━━━\u001b[0m \u001b[32m255.8/255.8 kB\u001b[0m \u001b[31m4.0 MB/s\u001b[0m eta \u001b[36m0:00:00\u001b[0m \u001b[36m0:00:01\u001b[0m\n",
      "\u001b[?25hInstalling collected packages: sentence_transformers\n",
      "Successfully installed sentence_transformers-3.2.1\n"
     ]
    }
   ],
   "source": [
    "!pip install sentence_transformers"
   ]
  },
  {
   "cell_type": "code",
   "execution_count": 7,
   "metadata": {
    "execution": {
     "iopub.execute_input": "2024-10-31T14:12:21.461821Z",
     "iopub.status.busy": "2024-10-31T14:12:21.461418Z",
     "iopub.status.idle": "2024-10-31T14:12:21.468014Z",
     "shell.execute_reply": "2024-10-31T14:12:21.466918Z",
     "shell.execute_reply.started": "2024-10-31T14:12:21.461771Z"
    },
    "trusted": true
   },
   "outputs": [],
   "source": [
    "sentences = dataset['titles']\n",
    "abstracts = dataset['abstracts']"
   ]
  },
  {
   "cell_type": "code",
   "execution_count": 8,
   "metadata": {
    "execution": {
     "iopub.execute_input": "2024-10-31T14:12:21.470087Z",
     "iopub.status.busy": "2024-10-31T14:12:21.469706Z",
     "iopub.status.idle": "2024-10-31T14:12:40.420178Z",
     "shell.execute_reply": "2024-10-31T14:12:40.418943Z",
     "shell.execute_reply.started": "2024-10-31T14:12:21.470045Z"
    },
    "trusted": true
   },
   "outputs": [
    {
     "name": "stderr",
     "output_type": "stream",
     "text": [
      "/opt/conda/lib/python3.10/site-packages/sentence_transformers/cross_encoder/CrossEncoder.py:13: TqdmExperimentalWarning: Using `tqdm.autonotebook.tqdm` in notebook mode. Use `tqdm.tqdm` instead to force console mode (e.g. in jupyter console)\n",
      "  from tqdm.autonotebook import tqdm, trange\n"
     ]
    }
   ],
   "source": [
    "from sentence_transformers import SentenceTransformer"
   ]
  },
  {
   "cell_type": "code",
   "execution_count": 9,
   "metadata": {
    "execution": {
     "iopub.execute_input": "2024-10-31T14:12:40.423113Z",
     "iopub.status.busy": "2024-10-31T14:12:40.422317Z",
     "iopub.status.idle": "2024-10-31T14:12:43.316052Z",
     "shell.execute_reply": "2024-10-31T14:12:43.315224Z",
     "shell.execute_reply.started": "2024-10-31T14:12:40.423063Z"
    },
    "trusted": true
   },
   "outputs": [
    {
     "data": {
      "application/vnd.jupyter.widget-view+json": {
       "model_id": "d87c638b9a1f47fc844021d899620f30",
       "version_major": 2,
       "version_minor": 0
      },
      "text/plain": [
       "modules.json:   0%|          | 0.00/349 [00:00<?, ?B/s]"
      ]
     },
     "metadata": {},
     "output_type": "display_data"
    },
    {
     "data": {
      "application/vnd.jupyter.widget-view+json": {
       "model_id": "6595663adfe34bbfb51a2f0c26ab27d2",
       "version_major": 2,
       "version_minor": 0
      },
      "text/plain": [
       "config_sentence_transformers.json:   0%|          | 0.00/116 [00:00<?, ?B/s]"
      ]
     },
     "metadata": {},
     "output_type": "display_data"
    },
    {
     "data": {
      "application/vnd.jupyter.widget-view+json": {
       "model_id": "ff6595f38b0b46e8a369b9681e1f19f7",
       "version_major": 2,
       "version_minor": 0
      },
      "text/plain": [
       "README.md:   0%|          | 0.00/10.7k [00:00<?, ?B/s]"
      ]
     },
     "metadata": {},
     "output_type": "display_data"
    },
    {
     "data": {
      "application/vnd.jupyter.widget-view+json": {
       "model_id": "d99e74cd731b492994bd8c10e44c0549",
       "version_major": 2,
       "version_minor": 0
      },
      "text/plain": [
       "sentence_bert_config.json:   0%|          | 0.00/53.0 [00:00<?, ?B/s]"
      ]
     },
     "metadata": {},
     "output_type": "display_data"
    },
    {
     "data": {
      "application/vnd.jupyter.widget-view+json": {
       "model_id": "0aaa0d99415b4a98965ae820beb9620b",
       "version_major": 2,
       "version_minor": 0
      },
      "text/plain": [
       "config.json:   0%|          | 0.00/612 [00:00<?, ?B/s]"
      ]
     },
     "metadata": {},
     "output_type": "display_data"
    },
    {
     "data": {
      "application/vnd.jupyter.widget-view+json": {
       "model_id": "aa685b569f634ca384fd4b4f15ab3101",
       "version_major": 2,
       "version_minor": 0
      },
      "text/plain": [
       "model.safetensors:   0%|          | 0.00/90.9M [00:00<?, ?B/s]"
      ]
     },
     "metadata": {},
     "output_type": "display_data"
    },
    {
     "data": {
      "application/vnd.jupyter.widget-view+json": {
       "model_id": "2469f45bc6584a7dbf9fb60c8ecc94f8",
       "version_major": 2,
       "version_minor": 0
      },
      "text/plain": [
       "tokenizer_config.json:   0%|          | 0.00/350 [00:00<?, ?B/s]"
      ]
     },
     "metadata": {},
     "output_type": "display_data"
    },
    {
     "data": {
      "application/vnd.jupyter.widget-view+json": {
       "model_id": "4f66b8fde65646a49ca4ef00ad6b6c6f",
       "version_major": 2,
       "version_minor": 0
      },
      "text/plain": [
       "vocab.txt:   0%|          | 0.00/232k [00:00<?, ?B/s]"
      ]
     },
     "metadata": {},
     "output_type": "display_data"
    },
    {
     "data": {
      "application/vnd.jupyter.widget-view+json": {
       "model_id": "5724d1925b7c418a8a50c3e46983137b",
       "version_major": 2,
       "version_minor": 0
      },
      "text/plain": [
       "tokenizer.json:   0%|          | 0.00/466k [00:00<?, ?B/s]"
      ]
     },
     "metadata": {},
     "output_type": "display_data"
    },
    {
     "data": {
      "application/vnd.jupyter.widget-view+json": {
       "model_id": "7bbced12712449649179d7d6f649c6ca",
       "version_major": 2,
       "version_minor": 0
      },
      "text/plain": [
       "special_tokens_map.json:   0%|          | 0.00/112 [00:00<?, ?B/s]"
      ]
     },
     "metadata": {},
     "output_type": "display_data"
    },
    {
     "name": "stderr",
     "output_type": "stream",
     "text": [
      "/opt/conda/lib/python3.10/site-packages/transformers/tokenization_utils_base.py:1617: FutureWarning: `clean_up_tokenization_spaces` was not set. It will be set to `True` by default. This behavior will be deprecated in transformers v4.45, and will be then set to `False` by default. For more details check this issue: https://github.com/huggingface/transformers/issues/31884\n",
      "  warnings.warn(\n"
     ]
    },
    {
     "data": {
      "application/vnd.jupyter.widget-view+json": {
       "model_id": "c3b39e534bdd433691d9f47e8df3f9dc",
       "version_major": 2,
       "version_minor": 0
      },
      "text/plain": [
       "1_Pooling/config.json:   0%|          | 0.00/190 [00:00<?, ?B/s]"
      ]
     },
     "metadata": {},
     "output_type": "display_data"
    }
   ],
   "source": [
    "# Initialize the SentenceTransformer model\n",
    "model = SentenceTransformer('all-MiniLM-L6-v2')\n"
   ]
  },
  {
   "cell_type": "code",
   "execution_count": 9,
   "metadata": {
    "execution": {
     "iopub.execute_input": "2024-10-31T11:45:17.702624Z",
     "iopub.status.busy": "2024-10-31T11:45:17.702214Z",
     "iopub.status.idle": "2024-10-31T11:45:35.260758Z",
     "shell.execute_reply": "2024-10-31T11:45:35.259871Z",
     "shell.execute_reply.started": "2024-10-31T11:45:17.702574Z"
    },
    "trusted": true
   },
   "outputs": [
    {
     "data": {
      "application/vnd.jupyter.widget-view+json": {
       "model_id": "a4e3ec695b7d482c8b7faa69925dddf0",
       "version_major": 2,
       "version_minor": 0
      },
      "text/plain": [
       "Batches:   0%|          | 0/1838 [00:00<?, ?it/s]"
      ]
     },
     "metadata": {},
     "output_type": "display_data"
    }
   ],
   "source": [
    "embeddings = model.encode(sentences, batch_size=32, show_progress_bar=True)"
   ]
  },
  {
   "cell_type": "code",
   "execution_count": 10,
   "metadata": {
    "execution": {
     "iopub.execute_input": "2024-10-31T14:12:43.317678Z",
     "iopub.status.busy": "2024-10-31T14:12:43.317201Z",
     "iopub.status.idle": "2024-10-31T14:15:05.810400Z",
     "shell.execute_reply": "2024-10-31T14:15:05.809328Z",
     "shell.execute_reply.started": "2024-10-31T14:12:43.317637Z"
    },
    "trusted": true
   },
   "outputs": [
    {
     "data": {
      "application/vnd.jupyter.widget-view+json": {
       "model_id": "deaa670086174b9faf09767b0390ebe3",
       "version_major": 2,
       "version_minor": 0
      },
      "text/plain": [
       "Batches:   0%|          | 0/1838 [00:00<?, ?it/s]"
      ]
     },
     "metadata": {},
     "output_type": "display_data"
    }
   ],
   "source": [
    "embeddings = model.encode(abstracts, batch_size=32, show_progress_bar=True)"
   ]
  },
  {
   "cell_type": "code",
   "execution_count": null,
   "metadata": {
    "execution": {
     "iopub.execute_input": "2024-10-31T12:32:26.805481Z",
     "iopub.status.busy": "2024-10-31T12:32:26.804821Z",
     "iopub.status.idle": "2024-10-31T12:32:26.811844Z",
     "shell.execute_reply": "2024-10-31T12:32:26.810919Z",
     "shell.execute_reply.started": "2024-10-31T12:32:26.805442Z"
    },
    "trusted": true
   },
   "outputs": [
    {
     "name": "stdout",
     "output_type": "stream",
     "text": [
      "Sentence: Benchmarking Human and Automated Prompting in the Segment Anything Model\n",
      "Embedding dimension: 384\n",
      "Title length: 72\n",
      "\n",
      "Sentence: CAMS: Convolution and Attention-Free Mamba-based Cardiac Image Segmentation\n",
      "Embedding dimension: 384\n",
      "Title length: 75\n",
      "\n",
      "Sentence: Global-Local Medical SAM Adaptor Based on Full Adaption\n",
      "Embedding dimension: 384\n",
      "Title length: 55\n",
      "\n",
      "Sentence: Image Segmentation in Foundation Model Era: A Survey\n",
      "Embedding dimension: 384\n",
      "Title length: 52\n",
      "\n",
      "Sentence: Empirical curvelet based Fully Convolutional Network for supervised texture image segmentation\n",
      "Embedding dimension: 384\n",
      "Title length: 94\n",
      "\n",
      "Sentence: SAM 2: Segment Anything in Images and Videos\n",
      "Embedding dimension: 384\n",
      "Title length: 44\n",
      "\n"
     ]
    }
   ],
   "source": [
    "c = 0\n",
    "for sentence, embedding in zip(sentences, embeddings):\n",
    "\n",
    "    print(\"Sentence:\", sentence)\n",
    "    print(\"Embedding dimension:\", len(embedding))\n",
    "    print(\"Title length:\", len(sentence))\n",
    "    print(\"\")\n",
    "\n",
    "    if c >=5:\n",
    "        break\n",
    "    c +=1 "
   ]
  },
  {
   "cell_type": "code",
   "execution_count": null,
   "metadata": {
    "execution": {
     "iopub.execute_input": "2024-10-31T11:46:31.210602Z",
     "iopub.status.busy": "2024-10-31T11:46:31.210182Z",
     "iopub.status.idle": "2024-10-31T11:46:31.374129Z",
     "shell.execute_reply": "2024-10-31T11:46:31.373351Z",
     "shell.execute_reply.started": "2024-10-31T11:46:31.210544Z"
    },
    "trusted": true
   },
   "outputs": [],
   "source": [
    "import pickle\n",
    "\n",
    "# Saving sentences and corresponding embeddings\n",
    "with open('../models/embeddings/embeddings.pkl', 'wb') as f:\n",
    "    pickle.dump(embeddings, f)\n",
    "\n",
    "with open('../models/sentences/sentences.pkl', 'wb') as f:\n",
    "    pickle.dump(sentences, f)\n",
    "\n",
    "with open('../models/abstracts/abstracts.pkl', 'wb') as f:\n",
    "    pickle.dump(embeddings, f)"
   ]
  },
  {
   "cell_type": "code",
   "execution_count": null,
   "metadata": {
    "execution": {
     "iopub.execute_input": "2024-10-31T12:39:06.502133Z",
     "iopub.status.busy": "2024-10-31T12:39:06.501767Z",
     "iopub.status.idle": "2024-10-31T12:39:06.506753Z",
     "shell.execute_reply": "2024-10-31T12:39:06.505609Z",
     "shell.execute_reply.started": "2024-10-31T12:39:06.502099Z"
    },
    "trusted": true
   },
   "outputs": [],
   "source": [
    "paper_you_like = \"Language Models and using graphRAG\""
   ]
  },
  {
   "cell_type": "code",
   "execution_count": 50,
   "metadata": {
    "execution": {
     "iopub.execute_input": "2024-10-31T12:39:08.008315Z",
     "iopub.status.busy": "2024-10-31T12:39:08.007389Z",
     "iopub.status.idle": "2024-10-31T12:39:08.132634Z",
     "shell.execute_reply": "2024-10-31T12:39:08.131618Z",
     "shell.execute_reply.started": "2024-10-31T12:39:08.008271Z"
    },
    "trusted": true
   },
   "outputs": [
    {
     "data": {
      "application/vnd.jupyter.widget-view+json": {
       "model_id": "72218f4aaeff49509d53cdba08e19f76",
       "version_major": 2,
       "version_minor": 0
      },
      "text/plain": [
       "Batches:   0%|          | 0/1 [00:00<?, ?it/s]"
      ]
     },
     "metadata": {},
     "output_type": "display_data"
    }
   ],
   "source": [
    "from sentence_transformers import util\n",
    "cosine_scores = util.cos_sim(embeddings, model.encode(paper_you_like))"
   ]
  },
  {
   "cell_type": "code",
   "execution_count": 51,
   "metadata": {
    "execution": {
     "iopub.execute_input": "2024-10-31T12:39:10.740715Z",
     "iopub.status.busy": "2024-10-31T12:39:10.739731Z",
     "iopub.status.idle": "2024-10-31T12:39:10.749476Z",
     "shell.execute_reply": "2024-10-31T12:39:10.748383Z",
     "shell.execute_reply.started": "2024-10-31T12:39:10.740671Z"
    },
    "trusted": true
   },
   "outputs": [
    {
     "data": {
      "text/plain": [
       "torch.return_types.topk(\n",
       "values=tensor([[0.5828],\n",
       "        [0.5248],\n",
       "        [0.5180],\n",
       "        [0.5027],\n",
       "        [0.4988]]),\n",
       "indices=tensor([[26528],\n",
       "        [25691],\n",
       "        [25857],\n",
       "        [26269],\n",
       "        [26298]]))"
      ]
     },
     "execution_count": 51,
     "metadata": {},
     "output_type": "execute_result"
    }
   ],
   "source": [
    "import torch\n",
    "top_similar_papers = torch.topk(cosine_scores,dim=0, k=5,sorted=True)\n",
    "top_similar_papers"
   ]
  },
  {
   "cell_type": "code",
   "execution_count": null,
   "metadata": {
    "execution": {
     "iopub.execute_input": "2024-10-31T12:39:12.742832Z",
     "iopub.status.busy": "2024-10-31T12:39:12.742420Z",
     "iopub.status.idle": "2024-10-31T12:39:12.748483Z",
     "shell.execute_reply": "2024-10-31T12:39:12.747571Z",
     "shell.execute_reply.started": "2024-10-31T12:39:12.742784Z"
    },
    "trusted": true
   },
   "outputs": [
    {
     "name": "stdout",
     "output_type": "stream",
     "text": [
      "Graph Retrieval-Augmented Generation: A Survey\n",
      "ChatGraph: Chat with Your Graphs\n",
      "GLBench: A Comprehensive Benchmark for Graph with Large Language Models\n",
      "How Do Large Language Models Understand Graph Patterns? A Benchmark for Graph Pattern Comprehension\n",
      "Lost-in-Distance: Impact of Contextual Proximity on LLM Performance in Graph Tasks\n"
     ]
    }
   ],
   "source": [
    "for i in top_similar_papers.indices:\n",
    "    print(sentences[i.item()])"
   ]
  }
 ],
 "metadata": {
  "kaggle": {
   "accelerator": "nvidiaTeslaT4",
   "dataSources": [
    {
     "datasetId": 5985350,
     "sourceId": 9771690,
     "sourceType": "datasetVersion"
    }
   ],
   "dockerImageVersionId": 30787,
   "isGpuEnabled": true,
   "isInternetEnabled": true,
   "language": "python",
   "sourceType": "notebook"
  },
  "kernelspec": {
   "display_name": "Python 3",
   "language": "python",
   "name": "python3"
  },
  "language_info": {
   "codemirror_mode": {
    "name": "ipython",
    "version": 3
   },
   "file_extension": ".py",
   "mimetype": "text/x-python",
   "name": "python",
   "nbconvert_exporter": "python",
   "pygments_lexer": "ipython3",
   "version": "3.10.14"
  }
 },
 "nbformat": 4,
 "nbformat_minor": 4
}
